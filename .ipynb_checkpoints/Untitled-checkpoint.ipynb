{
 "cells": [
  {
   "cell_type": "code",
   "execution_count": 1,
   "id": "c0ad38cf",
   "metadata": {},
   "outputs": [],
   "source": [
    "import pandas as pd"
   ]
  },
  {
   "cell_type": "code",
   "execution_count": 23,
   "id": "53ee18d4",
   "metadata": {},
   "outputs": [],
   "source": [
    "oecd_bli = pd.read_csv('BLI_09012023141137140.csv', thousands=',')\n",
    "\n",
    "gdp_per_capita = pd.read_csv('WEALTH_09012023141206874.csv', encoding='UTF-8',\n",
    "                             delimiter='\\t', thousands=',', na_values='n/a')"
   ]
  },
  {
   "cell_type": "code",
   "execution_count": 24,
   "id": "8f1baaed",
   "metadata": {},
   "outputs": [
    {
     "data": {
      "text/html": [
       "<div>\n",
       "<style scoped>\n",
       "    .dataframe tbody tr th:only-of-type {\n",
       "        vertical-align: middle;\n",
       "    }\n",
       "\n",
       "    .dataframe tbody tr th {\n",
       "        vertical-align: top;\n",
       "    }\n",
       "\n",
       "    .dataframe thead th {\n",
       "        text-align: right;\n",
       "    }\n",
       "</style>\n",
       "<table border=\"1\" class=\"dataframe\">\n",
       "  <thead>\n",
       "    <tr style=\"text-align: right;\">\n",
       "      <th></th>\n",
       "      <th>COUNTRY,\"Country\",\"VAR\",\"Variable\",\"POPULATION\",\"Population\",\"TIME\",\"Time\",\"Value\",\"Flag Codes\",\"Flags\"</th>\n",
       "    </tr>\n",
       "  </thead>\n",
       "  <tbody>\n",
       "    <tr>\n",
       "      <th>0</th>\n",
       "      <td>AUS,\"Australia\",\"T3AC2\",\"Mean financial assets...</td>\n",
       "    </tr>\n",
       "    <tr>\n",
       "      <th>1</th>\n",
       "      <td>AUS,\"Australia\",\"T3AC2\",\"Mean financial assets...</td>\n",
       "    </tr>\n",
       "    <tr>\n",
       "      <th>2</th>\n",
       "      <td>AUS,\"Australia\",\"T3AC2\",\"Mean financial assets...</td>\n",
       "    </tr>\n",
       "    <tr>\n",
       "      <th>3</th>\n",
       "      <td>AUS,\"Australia\",\"T3AC3\",\"Mean liabilities per ...</td>\n",
       "    </tr>\n",
       "    <tr>\n",
       "      <th>4</th>\n",
       "      <td>AUS,\"Australia\",\"T3AC3\",\"Mean liabilities per ...</td>\n",
       "    </tr>\n",
       "    <tr>\n",
       "      <th>...</th>\n",
       "      <td>...</td>\n",
       "    </tr>\n",
       "    <tr>\n",
       "      <th>1517</th>\n",
       "      <td>LTU,\"Lithuania\",\"T6AC2\",\"Share of individuals ...</td>\n",
       "    </tr>\n",
       "    <tr>\n",
       "      <th>1518</th>\n",
       "      <td>LTU,\"Lithuania\",\"T6AC3\",\"Share of individuals ...</td>\n",
       "    </tr>\n",
       "    <tr>\n",
       "      <th>1519</th>\n",
       "      <td>LTU,\"Lithuania\",\"T6AC6\",\"Share of individuals ...</td>\n",
       "    </tr>\n",
       "    <tr>\n",
       "      <th>1520</th>\n",
       "      <td>LTU,\"Lithuania\",\"T6AC7\",\"Share of individuals ...</td>\n",
       "    </tr>\n",
       "    <tr>\n",
       "      <th>1521</th>\n",
       "      <td>LTU,\"Lithuania\",\"SB40\",\"Share of bottom 40% of...</td>\n",
       "    </tr>\n",
       "  </tbody>\n",
       "</table>\n",
       "<p>1522 rows × 1 columns</p>\n",
       "</div>"
      ],
      "text/plain": [
       "     COUNTRY,\"Country\",\"VAR\",\"Variable\",\"POPULATION\",\"Population\",\"TIME\",\"Time\",\"Value\",\"Flag Codes\",\"Flags\"\n",
       "0     AUS,\"Australia\",\"T3AC2\",\"Mean financial assets...                                                     \n",
       "1     AUS,\"Australia\",\"T3AC2\",\"Mean financial assets...                                                     \n",
       "2     AUS,\"Australia\",\"T3AC2\",\"Mean financial assets...                                                     \n",
       "3     AUS,\"Australia\",\"T3AC3\",\"Mean liabilities per ...                                                     \n",
       "4     AUS,\"Australia\",\"T3AC3\",\"Mean liabilities per ...                                                     \n",
       "...                                                 ...                                                     \n",
       "1517  LTU,\"Lithuania\",\"T6AC2\",\"Share of individuals ...                                                     \n",
       "1518  LTU,\"Lithuania\",\"T6AC3\",\"Share of individuals ...                                                     \n",
       "1519  LTU,\"Lithuania\",\"T6AC6\",\"Share of individuals ...                                                     \n",
       "1520  LTU,\"Lithuania\",\"T6AC7\",\"Share of individuals ...                                                     \n",
       "1521  LTU,\"Lithuania\",\"SB40\",\"Share of bottom 40% of...                                                     \n",
       "\n",
       "[1522 rows x 1 columns]"
      ]
     },
     "execution_count": 24,
     "metadata": {},
     "output_type": "execute_result"
    }
   ],
   "source": [
    "gdp_per_capita"
   ]
  },
  {
   "cell_type": "code",
   "execution_count": null,
   "id": "0d4735fd",
   "metadata": {},
   "outputs": [],
   "source": []
  },
  {
   "cell_type": "code",
   "execution_count": null,
   "id": "5c26229f",
   "metadata": {},
   "outputs": [],
   "source": []
  },
  {
   "cell_type": "code",
   "execution_count": null,
   "id": "9a0b9ffe",
   "metadata": {},
   "outputs": [],
   "source": []
  },
  {
   "cell_type": "code",
   "execution_count": null,
   "id": "7097a0df",
   "metadata": {},
   "outputs": [],
   "source": []
  }
 ],
 "metadata": {
  "kernelspec": {
   "display_name": "Python 3 (ipykernel)",
   "language": "python",
   "name": "python3"
  },
  "language_info": {
   "codemirror_mode": {
    "name": "ipython",
    "version": 3
   },
   "file_extension": ".py",
   "mimetype": "text/x-python",
   "name": "python",
   "nbconvert_exporter": "python",
   "pygments_lexer": "ipython3",
   "version": "3.9.12"
  }
 },
 "nbformat": 4,
 "nbformat_minor": 5
}
